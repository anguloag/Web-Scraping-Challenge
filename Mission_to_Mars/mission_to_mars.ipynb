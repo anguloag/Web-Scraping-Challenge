{
 "cells": [
  {
   "cell_type": "code",
   "execution_count": 4,
   "id": "3981d680",
   "metadata": {},
   "outputs": [],
   "source": [
    "# Dependencies\n",
    "from bs4 import BeautifulSoup as bs\n",
    "import requests\n",
    "import os\n",
    "import pandas as pd\n",
    "from splinter import Browser\n",
    "from webdriver_manager.chrome import ChromeDriverManager\n",
    "import pymongo"
   ]
  },
  {
   "cell_type": "code",
   "execution_count": null,
   "id": "e3affa11",
   "metadata": {},
   "outputs": [],
   "source": [
    "# Scrape the Mars News Site (https://redplanetscience.com/)\n",
    "# collect the latest News Title and Paragraph Text\n",
    "# Assign the text to variables that you can reference later."
   ]
  },
  {
   "cell_type": "code",
   "execution_count": 12,
   "id": "83aa4299",
   "metadata": {},
   "outputs": [
    {
     "name": "stderr",
     "output_type": "stream",
     "text": [
      "[WDM] - \n",
      "\n",
      "[WDM] - ====== WebDriver manager ======\n",
      "[WDM] - Current google-chrome version is 94.0.4606\n",
      "[WDM] - Get LATEST driver version for 94.0.4606\n",
      "[WDM] - Driver [C:\\Users\\Angela\\.wdm\\drivers\\chromedriver\\win32\\94.0.4606.61\\chromedriver.exe] found in cache\n"
     ]
    },
    {
     "name": "stdout",
     "output_type": "stream",
     "text": [
      "HiRISE Views NASA's InSight and Curiosity on Mars\n",
      "New images taken from space offer the clearest orbital glimpse yet of InSight as well as a view of Curiosity rolling along.\n"
     ]
    }
   ],
   "source": [
    "# Retrieve page with webdriver_manager\n",
    "executable_path = {'executable_path': ChromeDriverManager().install()}\n",
    "browser = Browser('chrome', **executable_path, headless=False)\n",
    "browser.visit('https://redplanetscience.com/')\n",
    "\n",
    "# Create HTML object\n",
    "html = browser.html\n",
    "\n",
    "# Create BS object, parse with html.parser\n",
    "page = bs(html, 'html.parser')\n",
    "\n",
    "# Find News Title (class = content_title), assign to variable\n",
    "news_title = page.find('div', class_='content_title').text\n",
    "print(news_title)\n",
    "\n",
    "# Find Paragraph Text (class = article_teaser_body), assign to variable\n",
    "news_p = page.find('div', class_='article_teaser_body').text\n",
    "print(news_p)"
   ]
  },
  {
   "cell_type": "code",
   "execution_count": null,
   "id": "40e79e01",
   "metadata": {},
   "outputs": [],
   "source": [
    "# Visit the Featured Space Image site (https://spaceimages-mars.com/)\n",
    "# Use splinter to navigate the site and find the image url for the current Featured Mars Image\n",
    "# --assign the url string to a variable called featured_image_url\n",
    "# --Make sure to find the image url to the full size .jpg image\n",
    "# --Make sure to save a complete url string for this image."
   ]
  },
  {
   "cell_type": "code",
   "execution_count": 26,
   "id": "3a6df1d2",
   "metadata": {},
   "outputs": [
    {
     "name": "stdout",
     "output_type": "stream",
     "text": [
      "image/featured/mars1.jpg\n",
      "https://spaceimages-mars.com/image/featured/mars1.jpg\n"
     ]
    }
   ],
   "source": [
    "# Retrieve page with webdriver_manager\n",
    "browser.visit('https://spaceimages-mars.com/')\n",
    "\n",
    "# Create HTML object\n",
    "html = browser.html\n",
    "\n",
    "# Create BS object, parse with html.parser\n",
    "page = bs(html, 'html.parser')\n",
    "\n",
    "# Find current Featured Mars Image (class = headerimage), assign to variable\n",
    "images = page.find('img', class_='headerimage fade-in')['src']\n",
    "print(images)\n",
    "\n",
    "featured_image_url = f'https://spaceimages-mars.com/{images}'\n",
    "print(featured_image_url)"
   ]
  },
  {
   "cell_type": "code",
   "execution_count": null,
   "id": "71e4df68",
   "metadata": {},
   "outputs": [],
   "source": [
    "# Visit the Mars Facts webpage (https://galaxyfacts-mars.com/)\n",
    "# use Pandas to scrape the table containing facts about the planet\n",
    "# --including Diameter, Mass, etc.\n",
    "# Use Pandas to convert the data to a HTML table string."
   ]
  },
  {
   "cell_type": "code",
   "execution_count": null,
   "id": "c9fca643",
   "metadata": {},
   "outputs": [],
   "source": []
  },
  {
   "cell_type": "code",
   "execution_count": null,
   "id": "c9e09b0f",
   "metadata": {},
   "outputs": [],
   "source": []
  },
  {
   "cell_type": "code",
   "execution_count": null,
   "id": "b4a60b29",
   "metadata": {},
   "outputs": [],
   "source": [
    "# Visit the astrogeology site (https://marshemispheres.com/)\n",
    "# to obtain high resolution images for each of Mar's hemispheres\n",
    "# --click each of the links to the hemispheres to find the image url to the full res image.\n",
    "# Save the image url string for the full resolution hemisphere image, and the Hemisphere title containing the hemisphere name\n",
    "# --Use a Python dictionary to store the data using the keys img_url and title\n",
    "# Append the dictionary with the image url string and the hemisphere title to a list. This list will contain one dictionary for each hemisphere."
   ]
  },
  {
   "cell_type": "code",
   "execution_count": null,
   "id": "1d2db949",
   "metadata": {},
   "outputs": [],
   "source": []
  },
  {
   "cell_type": "code",
   "execution_count": null,
   "id": "534062d7",
   "metadata": {},
   "outputs": [],
   "source": []
  },
  {
   "cell_type": "code",
   "execution_count": null,
   "id": "48d37f46",
   "metadata": {},
   "outputs": [],
   "source": [
    "browser.quit()"
   ]
  },
  {
   "cell_type": "code",
   "execution_count": null,
   "id": "d530177c",
   "metadata": {},
   "outputs": [],
   "source": []
  },
  {
   "cell_type": "code",
   "execution_count": null,
   "id": "59ec78b3",
   "metadata": {},
   "outputs": [],
   "source": []
  }
 ],
 "metadata": {
  "kernelspec": {
   "display_name": "Python 3",
   "language": "python",
   "name": "python3"
  },
  "language_info": {
   "codemirror_mode": {
    "name": "ipython",
    "version": 3
   },
   "file_extension": ".py",
   "mimetype": "text/x-python",
   "name": "python",
   "nbconvert_exporter": "python",
   "pygments_lexer": "ipython3",
   "version": "3.8.8"
  }
 },
 "nbformat": 4,
 "nbformat_minor": 5
}
