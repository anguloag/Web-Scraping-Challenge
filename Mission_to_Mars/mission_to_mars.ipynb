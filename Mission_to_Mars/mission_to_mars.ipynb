{
 "cells": [
  {
   "cell_type": "markdown",
   "id": "f62d88e1",
   "metadata": {},
   "source": [
    "## Step 1 - Scraping"
   ]
  },
  {
   "cell_type": "code",
   "execution_count": 1,
   "id": "90168bfc",
   "metadata": {},
   "outputs": [],
   "source": [
    "# Dependencies\n",
    "from bs4 import BeautifulSoup as bs\n",
    "import requests\n",
    "import os\n",
    "import pandas as pd\n",
    "from splinter import Browser\n",
    "from webdriver_manager.chrome import ChromeDriverManager\n",
    "import pymongo"
   ]
  },
  {
   "cell_type": "markdown",
   "id": "05fc62c4",
   "metadata": {},
   "source": [
    "### NASA Mars News\n",
    "\n",
    "- Scrape the Mars News Site (https://redplanetscience.com/)\n",
    "- Collect the latest News Title and Paragraph Text\n",
    "- Assign the text to variables that you can reference later."
   ]
  },
  {
   "cell_type": "code",
   "execution_count": 2,
   "id": "cd6a5bd6",
   "metadata": {},
   "outputs": [
    {
     "name": "stderr",
     "output_type": "stream",
     "text": [
      "[WDM] - \n",
      "\n",
      "[WDM] - ====== WebDriver manager ======\n",
      "[WDM] - Current google-chrome version is 94.0.4606\n",
      "[WDM] - Get LATEST driver version for 94.0.4606\n",
      "[WDM] - Driver [C:\\Users\\Angela\\.wdm\\drivers\\chromedriver\\win32\\94.0.4606.61\\chromedriver.exe] found in cache\n"
     ]
    }
   ],
   "source": [
    "# Set up executable path to browser with webdriver_manager\n",
    "executable_path = {'executable_path': ChromeDriverManager().install()}\n",
    "browser = Browser('chrome', **executable_path, headless=False)"
   ]
  },
  {
   "cell_type": "code",
   "execution_count": 3,
   "id": "17d0543e",
   "metadata": {},
   "outputs": [
    {
     "name": "stdout",
     "output_type": "stream",
     "text": [
      "My Culture, My Voice\n",
      "In honor of Hispanic Heritage Month, Christina Hernandez, an instrument engineer on the Mars 2020 mission, talks about her childhood and journey to NASA.\n"
     ]
    }
   ],
   "source": [
    "# Navigate to Mars News page\n",
    "browser.visit('https://redplanetscience.com/')\n",
    "\n",
    "# Create HTML object\n",
    "html = browser.html\n",
    "\n",
    "# Create BS object, parse with html.parser\n",
    "page = bs(html, 'html.parser')\n",
    "\n",
    "# Find News Title (class = content_title), assign to variable\n",
    "news_title = page.find('div', class_='content_title').text\n",
    "print(news_title)\n",
    "\n",
    "# Find Paragraph Text (class = article_teaser_body), assign to variable\n",
    "news_p = page.find('div', class_='article_teaser_body').text\n",
    "print(news_p)"
   ]
  },
  {
   "cell_type": "markdown",
   "id": "319add40",
   "metadata": {},
   "source": [
    "### JPL Mars Space Images - Featured Image \n",
    "- Visit the Featured Space Image site (https://spaceimages-mars.com/)\n",
    "- Use splinter to navigate the site and find the image url for the current Featured Mars Image, and assign the url string to a variable called featured_image_url\n",
    "- Make sure to find the image url to the full size .jpg image, and save its complete url string"
   ]
  },
  {
   "cell_type": "code",
   "execution_count": 4,
   "id": "3e4e066a",
   "metadata": {},
   "outputs": [
    {
     "name": "stdout",
     "output_type": "stream",
     "text": [
      "image/featured/mars3.jpg\n",
      "https://spaceimages-mars.com/image/featured/mars3.jpg\n"
     ]
    }
   ],
   "source": [
    "# Navigate to Featured Space Image page\n",
    "browser.visit('https://spaceimages-mars.com/')\n",
    "\n",
    "# Create HTML object\n",
    "html = browser.html\n",
    "\n",
    "# Create BS object, parse with html.parser\n",
    "page = bs(html, 'html.parser')\n",
    "\n",
    "# Find current Featured Mars Image (class = headerimage), assign to variable\n",
    "images = page.find('img', class_='headerimage fade-in')['src']\n",
    "print(images)\n",
    "\n",
    "featured_image_url = f'https://spaceimages-mars.com/{images}'\n",
    "print(featured_image_url)"
   ]
  },
  {
   "cell_type": "markdown",
   "id": "d5ff3297",
   "metadata": {},
   "source": [
    "### Mars Facts \n",
    "- Visit the Mars Facts webpage (https://galaxyfacts-mars.com/)\n",
    "- Use Pandas to scrape the table containing facts about the planet, including Diameter, Mass, etc.\n",
    "- Use Pandas to convert the data to a HTML table string."
   ]
  },
  {
   "cell_type": "code",
   "execution_count": 5,
   "id": "3e2f121f",
   "metadata": {},
   "outputs": [
    {
     "name": "stdout",
     "output_type": "stream",
     "text": [
      "                                    Mars            Earth\n",
      "Mars - Earth Comparison                                  \n",
      "Diameter:                       6,779 km        12,742 km\n",
      "Mass:                    6.39 × 10^23 kg  5.97 × 10^24 kg\n",
      "Moons:                                 2                1\n",
      "Distance from Sun:        227,943,824 km   149,598,262 km\n",
      "Length of Year:           687 Earth days      365.24 days\n",
      "Temperature:                -87 to -5 °C      -88 to 58°C\n"
     ]
    },
    {
     "data": {
      "text/plain": [
       "'<table border=\"1\" class=\"dataframe\">\\n  <thead>\\n    <tr style=\"text-align: right;\">\\n      <th></th>\\n      <th>Mars</th>\\n      <th>Earth</th>\\n    </tr>\\n    <tr>\\n      <th>Mars - Earth Comparison</th>\\n      <th></th>\\n      <th></th>\\n    </tr>\\n  </thead>\\n  <tbody>\\n    <tr>\\n      <th>Diameter:</th>\\n      <td>6,779 km</td>\\n      <td>12,742 km</td>\\n    </tr>\\n    <tr>\\n      <th>Mass:</th>\\n      <td>6.39 × 10^23 kg</td>\\n      <td>5.97 × 10^24 kg</td>\\n    </tr>\\n    <tr>\\n      <th>Moons:</th>\\n      <td>2</td>\\n      <td>1</td>\\n    </tr>\\n    <tr>\\n      <th>Distance from Sun:</th>\\n      <td>227,943,824 km</td>\\n      <td>149,598,262 km</td>\\n    </tr>\\n    <tr>\\n      <th>Length of Year:</th>\\n      <td>687 Earth days</td>\\n      <td>365.24 days</td>\\n    </tr>\\n    <tr>\\n      <th>Temperature:</th>\\n      <td>-87 to -5 °C</td>\\n      <td>-88 to 58°C</td>\\n    </tr>\\n  </tbody>\\n</table>'"
      ]
     },
     "execution_count": 5,
     "metadata": {},
     "output_type": "execute_result"
    }
   ],
   "source": [
    "# Use pd.read_html to scrape the tables from the Mars Facts webpage into a \"tables\" variable\n",
    "tables = pd.read_html(\"https://galaxyfacts-mars.com/\", header=0)\n",
    "# uncomment to display\n",
    "#print(tables)\n",
    "\n",
    "# Set the first table into a DF \n",
    "mars_facts_df = tables[0]\n",
    "mars_facts_df.set_index(\"Mars - Earth Comparison\", inplace=True) \n",
    "print(mars_facts_df)\n",
    "\n",
    "# Use .to_html() to convert DF to html table string\n",
    "mars_facts_html = mars_facts_df.to_html()\n",
    "mars_facts_html"
   ]
  },
  {
   "cell_type": "markdown",
   "id": "b7148f36",
   "metadata": {},
   "source": [
    "### Mars Hemispheres\n",
    "- Visit the astrogeology site (https://marshemispheres.com/) to obtain high resolution images for each of Mars' hemispheres\n",
    "- Click each of the links to the hemispheres to find the image url to the full res image.\n",
    "- Save the image url string for the full resolution hemisphere image, and the Hemisphere title containing the hemisphere name -- Use a Python dictionary to store the data using the keys \"img_url\" and \"title\"\n",
    "- Append the dictionary with the image url string and the hemisphere title to a list (will contain one dictionary for each hemisphere)."
   ]
  },
  {
   "cell_type": "code",
   "execution_count": 6,
   "id": "c1ea6fd9",
   "metadata": {
    "scrolled": true
   },
   "outputs": [
    {
     "data": {
      "text/plain": [
       "[{'title': 'Cerberus Hemisphere',\n",
       "  'img_url': 'https://marshemispheres.com/images/f5e372a36edfa389625da6d0cc25d905_cerberus_enhanced.tif_full.jpg'},\n",
       " {'title': 'Schiaparelli Hemisphere',\n",
       "  'img_url': 'https://marshemispheres.com/images/3778f7b43bbbc89d6e3cfabb3613ba93_schiaparelli_enhanced.tif_full.jpg'},\n",
       " {'title': 'Syrtis Major Hemisphere',\n",
       "  'img_url': 'https://marshemispheres.com/images/555e6403a6ddd7ba16ddb0e471cadcf7_syrtis_major_enhanced.tif_full.jpg'},\n",
       " {'title': 'Valles Marineris Hemisphere',\n",
       "  'img_url': 'https://marshemispheres.com/images/b3c7c6c9138f57b4756be9b9c43e3a48_valles_marineris_enhanced.tif_full.jpg'}]"
      ]
     },
     "execution_count": 6,
     "metadata": {},
     "output_type": "execute_result"
    }
   ],
   "source": [
    "# Navigate to Astrogeology page\n",
    "browser.visit('https://marshemispheres.com/')\n",
    "\n",
    "# Create HTML object\n",
    "html = browser.html\n",
    "\n",
    "# Create BS object, parse with html.parser\n",
    "page = bs(html, 'html.parser')\n",
    "\n",
    "# Locate each of the four hemisphere sections in the html \n",
    "locations = page.find_all(\"div\", class_=\"description\")\n",
    "# uncomment to display\n",
    "#print(locations)\n",
    "\n",
    "# Create empty list to hold the img_url/title dictionaries\n",
    "hemisphere_urls_titles_list = []\n",
    "\n",
    "# Run through the html section locations for each hemisphere...\n",
    "for location in locations:\n",
    "    \n",
    "    # Find the link to the full res image\n",
    "    img_link = location.find('a')['href']\n",
    "    \n",
    "    # Navigate to the page for full res image, create BS object to parse through\n",
    "    browser.visit('https://marshemispheres.com/' + img_link)\n",
    "    html = browser.html\n",
    "    page = bs(html, 'html.parser')\n",
    "    \n",
    "    # Find the image source link (img section, class 'wide-image', save full img_url\n",
    "    img_src = page.find(\"img\", class_='wide-image')[\"src\"]\n",
    "    img_url = 'https://marshemispheres.com/' + img_src\n",
    "    \n",
    "    # Find the title for the image (h2 within the div section, class 'cover')\n",
    "    # --strip the h2 text, split off the last word with rsplit(), save the hemisphere title\n",
    "    hemisphere_title = page.find(\"div\", class_=\"cover\").find('h2').text.strip().rsplit(' ', 1)[0] \n",
    "    \n",
    "    # uncomment to display\n",
    "    #print(hemisphere_title)\n",
    "    #print(img_url)\n",
    "    \n",
    "    # Create the hemisphere dictionary (title: ... , img_url: ...), append to dictionary list\n",
    "    hemisphere_dict = {'title': hemisphere_title, 'img_url': img_url}\n",
    "    hemisphere_urls_titles_list.append(hemisphere_dict)\n",
    "    \n",
    "hemisphere_urls_titles_list"
   ]
  },
  {
   "cell_type": "code",
   "execution_count": 7,
   "id": "831f4bc7",
   "metadata": {},
   "outputs": [],
   "source": [
    "browser.quit()"
   ]
  },
  {
   "cell_type": "code",
   "execution_count": null,
   "id": "431b5f24",
   "metadata": {},
   "outputs": [],
   "source": []
  }
 ],
 "metadata": {
  "kernelspec": {
   "display_name": "Python 3",
   "language": "python",
   "name": "python3"
  },
  "language_info": {
   "codemirror_mode": {
    "name": "ipython",
    "version": 3
   },
   "file_extension": ".py",
   "mimetype": "text/x-python",
   "name": "python",
   "nbconvert_exporter": "python",
   "pygments_lexer": "ipython3",
   "version": "3.8.8"
  }
 },
 "nbformat": 4,
 "nbformat_minor": 5
}
